{
 "cells": [
  {
   "cell_type": "code",
   "execution_count": 2,
   "id": "3ece124d",
   "metadata": {},
   "outputs": [],
   "source": [
    "import random\n",
    "import smtplib"
   ]
  },
  {
   "cell_type": "code",
   "execution_count": 6,
   "id": "d6211d42",
   "metadata": {},
   "outputs": [
    {
     "name": "stdout",
     "output_type": "stream",
     "text": [
      "entr the email_id: laukeshloki@gmail.com\n",
      "Enter OTP: 4956\n",
      "INVALID OTP !\n"
     ]
    },
    {
     "data": {
      "text/plain": [
       "(221,\n",
       " b'2.0.0 closing connection v7-20020a17090a4ec700b001ecaa74f8dasm2585441pjl.11 - gsmtp')"
      ]
     },
     "execution_count": 6,
     "metadata": {},
     "output_type": "execute_result"
    }
   ],
   "source": [
    "server=smtplib.SMTP('smtp.gmail.com',587)\n",
    "server.starttls()\n",
    "password='tvondvpkshjyfmdl'\n",
    "server.login('laukeshk185@gmail.com',password)\n",
    "#generate OTP using random.randint() function\n",
    "otp=''.join([str(random.randint(0,9)) for i in range(4)])\n",
    "msg='Hello, Your OTP is '+str(otp)\n",
    "sender='laukeshk185@gmail.com'  #write email id of sender\n",
    "receiver=input(\"entr the email_id: \") #write email of receiver\n",
    "server.sendmail(sender,receiver,msg)\n",
    "val = input(\"Enter OTP: \")\n",
    "if otp==val:\n",
    "    print(\"OTP Verified !\")\n",
    "else:\n",
    "        print(\"INVALID OTP !\")\n",
    "server.quit()"
   ]
  },
  {
   "cell_type": "code",
   "execution_count": null,
   "id": "8f050eb9",
   "metadata": {},
   "outputs": [],
   "source": []
  },
  {
   "cell_type": "code",
   "execution_count": null,
   "id": "67b650c0",
   "metadata": {},
   "outputs": [],
   "source": []
  }
 ],
 "metadata": {
  "kernelspec": {
   "display_name": "Python 3 (ipykernel)",
   "language": "python",
   "name": "python3"
  },
  "language_info": {
   "codemirror_mode": {
    "name": "ipython",
    "version": 3
   },
   "file_extension": ".py",
   "mimetype": "text/x-python",
   "name": "python",
   "nbconvert_exporter": "python",
   "pygments_lexer": "ipython3",
   "version": "3.9.12"
  }
 },
 "nbformat": 4,
 "nbformat_minor": 5
}
